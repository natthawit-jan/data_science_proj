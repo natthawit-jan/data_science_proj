{
 "cells": [
  {
   "cell_type": "code",
   "execution_count": 6,
   "metadata": {},
   "outputs": [
    {
     "name": "stdout",
     "output_type": "stream",
     "text": [
      "(25000,) (25000,)\n",
      "Model: \"sequential_4\"\n",
      "_________________________________________________________________\n",
      " Layer (type)                Output Shape              Param #   \n",
      "=================================================================\n",
      " embedding_4 (Embedding)     (None, 300, 128)          1280000   \n",
      "                                                                 \n",
      " bidirectional_4 (Bidirecti  (None, 128)               98816     \n",
      " onal)                                                           \n",
      "                                                                 \n",
      " dense_4 (Dense)             (None, 1)                 129       \n",
      "                                                                 \n",
      "=================================================================\n",
      "Total params: 1378945 (5.26 MB)\n",
      "Trainable params: 1378945 (5.26 MB)\n",
      "Non-trainable params: 0 (0.00 Byte)\n",
      "_________________________________________________________________\n",
      "None\n"
     ]
    }
   ],
   "source": [
    "import numpy as np\n",
    "\n",
    "import tensorflow as tf\n",
    "from tensorflow.keras.datasets import imdb\n",
    "from tensorflow.keras.models import Sequential\n",
    "from tensorflow.keras.layers import Embedding, LSTM, Dense, Bidirectional\n",
    "from tensorflow.keras.preprocessing.sequence import pad_sequences\n",
    "\n",
    "# Load the dataset\n",
    "max_features = 10000  # Number of words to consider as features\n",
    "max_len = 300  # Cut texts after this number of words (among top max_features most common words)\n",
    "\n",
    "(x_train, y_train), (x_test, y_test) = imdb.load_data(num_words=max_features)\n",
    "print(x_train.shape, y_train.shape)\n",
    "# Pad sequences to ensure uniform input size\n",
    "x_train = pad_sequences(x_train, maxlen=max_len)\n",
    "x_test = pad_sequences(x_test, maxlen=max_len)\n",
    "\n",
    "# Build the model\n",
    "model = Sequential()\n",
    "model.add(Embedding(max_features, 128, input_length=max_len))\n",
    "model.add(Bidirectional(LSTM(64)))\n",
    "model.add(Dense(1, activation='sigmoid'))\n",
    "\n",
    "model.compile(loss='binary_crossentropy',\n",
    "              optimizer='adam',\n",
    "              metrics=['accuracy'])\n",
    "\n",
    "\n",
    "print(model.summary())"
   ]
  },
  {
   "cell_type": "code",
   "execution_count": 7,
   "metadata": {},
   "outputs": [
    {
     "name": "stdout",
     "output_type": "stream",
     "text": [
      "Epoch 1/3\n",
      "782/782 [==============================] - 208s 264ms/step - loss: 0.4352 - accuracy: 0.7989 - val_loss: 0.3190 - val_accuracy: 0.8678\n",
      "Epoch 2/3\n",
      "782/782 [==============================] - 134s 171ms/step - loss: 0.2637 - accuracy: 0.8966 - val_loss: 0.3267 - val_accuracy: 0.8670\n",
      "Epoch 3/3\n",
      "782/782 [==============================] - 144s 184ms/step - loss: 0.1924 - accuracy: 0.9291 - val_loss: 0.3915 - val_accuracy: 0.8446\n",
      "782/782 [==============================] - 35s 45ms/step - loss: 0.3915 - accuracy: 0.8446\n",
      "Test score: 0.39145371317863464\n",
      "Test accuracy: 0.8446400165557861\n"
     ]
    }
   ],
   "source": [
    "\n",
    "model.fit(x_train, y_train,\n",
    "          batch_size=32,\n",
    "          epochs=3,\n",
    "          validation_data=(x_test, y_test))\n",
    "\n",
    "score, acc = model.evaluate(x_test, y_test, batch_size=32)\n",
    "print(f'Test score: {score}')\n",
    "print(f'Test accuracy: {acc}')\n"
   ]
  },
  {
   "cell_type": "code",
   "execution_count": 35,
   "metadata": {},
   "outputs": [
    {
     "name": "stdout",
     "output_type": "stream",
     "text": [
      "1/1 [==============================] - 0s 14ms/step\n",
      "Sentiment score: 0.5859974026679993\n",
      "Positive sentiment\n"
     ]
    }
   ],
   "source": [
    "sample_text = \"The setting of the movie is great, but the acting is terrible, I would not recommend it\"\n",
    "sample_text = \"The movie is great, I would recommend it. The action scenes are amazing and the acting is superb, I loved it\"\n",
    "sample_sequence = [imdb.get_word_index().get(word, 0) for word in sample_text.lower().split()]\n",
    "sample_padded = pad_sequences([sample_sequence], maxlen=max_len)\n",
    "prediction = model.predict(sample_padded)\n",
    "print(f'Sentiment score: {prediction[0][0]}')\n",
    "if prediction[0][0] > 0.5:\n",
    "    print('Positive sentiment')\n",
    "else:\n",
    "    print('Negative sentiment')\n"
   ]
  }
 ],
 "metadata": {
  "kernelspec": {
   "display_name": "Olympics",
   "language": "python",
   "name": "python3"
  },
  "language_info": {
   "codemirror_mode": {
    "name": "ipython",
    "version": 3
   },
   "file_extension": ".py",
   "mimetype": "text/x-python",
   "name": "python",
   "nbconvert_exporter": "python",
   "pygments_lexer": "ipython3",
   "version": "3.8.19"
  }
 },
 "nbformat": 4,
 "nbformat_minor": 2
}
